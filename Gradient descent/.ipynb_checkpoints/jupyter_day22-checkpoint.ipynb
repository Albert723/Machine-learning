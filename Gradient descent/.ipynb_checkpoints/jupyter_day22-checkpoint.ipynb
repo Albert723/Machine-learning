{
 "cells": [
  {
   "cell_type": "markdown",
   "metadata": {},
   "source": [
    "# 批量梯度下降法"
   ]
  },
  {
   "cell_type": "code",
   "execution_count": 1,
   "metadata": {},
   "outputs": [],
   "source": [
    "import numpy as np\n",
    "import matplotlib.pyplot as plt"
   ]
  },
  {
   "cell_type": "code",
   "execution_count": 3,
   "metadata": {},
   "outputs": [],
   "source": [
    "m = 100000\n",
    "np.random.seed(666)\n",
    "x = 2 * np.random.random(size = m)\n",
    "X = x.reshape(-1,1)\n",
    "y = x * 3. + 4. + np.random.normal(size = m)"
   ]
  },
  {
   "cell_type": "code",
   "execution_count": 5,
   "metadata": {},
   "outputs": [],
   "source": [
    "def J(theta,X_b,y):\n",
    "    try:\n",
    "        return np.sum((y - X_b.dot(theta))**2)/len(X_b)\n",
    "    except:\n",
    "        return float('inf')\n",
    "\n",
    "def dJ(theta,X_b,y):\n",
    "    res = np.empty(len(theta))\n",
    "    res[0] = np.sum(X_b.dot(theta) - y)\n",
    "    for i in range(1,len(theta)):\n",
    "        res[i] = (X_b.dot(theta)-y).dot(X_b[:,i])\n",
    "    return res*2/ len(X_b)\n",
    "\n",
    "def gradient_decent(X_b,y,initial_theta,eta,n_iters = 1e4,epsilon=1e-8):\n",
    "    theta=initial_theta\n",
    "\n",
    "    i_iter = 0\n",
    "    while i_iter<n_iters:\n",
    "        gradient = dJ(theta,X_b,y)\n",
    "        last_theta = theta\n",
    "        theta = theta - eta*gradient\n",
    "        if(abs(J(theta,X_b,y)-J(last_theta,X_b,y))<epsilon):\n",
    "            break\n",
    "        i_iter+=1\n",
    "    return theta"
   ]
  },
  {
   "cell_type": "code",
   "execution_count": 6,
   "metadata": {},
   "outputs": [],
   "source": [
    "X_b = np.hstack([np.ones((len(x),1)),X])\n",
    "initial_theta = np.zeros(X_b.shape[1])\n",
    "eta = 0.01\n",
    "\n",
    "theta = gradient_decent(X_b,y,initial_theta,eta)"
   ]
  },
  {
   "cell_type": "code",
   "execution_count": 7,
   "metadata": {},
   "outputs": [
    {
     "data": {
      "text/plain": [
       "array([3.99839758, 3.002347  ])"
      ]
     },
     "execution_count": 7,
     "metadata": {},
     "output_type": "execute_result"
    }
   ],
   "source": [
    "theta"
   ]
  },
  {
   "cell_type": "markdown",
   "metadata": {},
   "source": [
    "## 随机梯度下降法"
   ]
  },
  {
   "cell_type": "code",
   "execution_count": 12,
   "metadata": {},
   "outputs": [],
   "source": [
    "#采用向量化处理\n",
    "def dJ_l(theta,X_b,y):\n",
    "    return X_b.T.dot(X_b.dot(theta)-y) *2./len(y)\n",
    "#只选取一个样本\n",
    "def dJ_sgd(theta,X_b_i,y_i):\n",
    "    return X_b_i.T.dot(X_b_i.dot(theta)-y_i) *2.\n",
    "\n",
    "def sgd(X_b,y,initial_theta,n_iters):\n",
    "    t0 = 5\n",
    "    t1 = 50\n",
    "    def learning_rates(t):\n",
    "        return t0/(t+t1)\n",
    "    #由于随机梯度下降的不确定定性，有可能两次差距非常小，是偶然的，故而判断条件只采用循环次数\n",
    "    theta = initial_theta\n",
    "    for cur_iter in range(n_iters):\n",
    "        rand_i = np.random.randint(len(X_b))  #随机样本索引，只查看一个训练样本并进行更新\n",
    "        gradient = dJ_sgd(theta,X_b[rand_i],y[rand_i])\n",
    "        theta = theta - learning_rates(cur_iter)*gradient\n",
    "    return theta"
   ]
  },
  {
   "cell_type": "code",
   "execution_count": 13,
   "metadata": {},
   "outputs": [
    {
     "name": "stdout",
     "output_type": "stream",
     "text": [
      "Wall time: 292 ms\n"
     ]
    }
   ],
   "source": [
    "%%time\n",
    "X_b = np.hstack([np.ones((len(x),1)),X])\n",
    "initial_theta = np.zeros(X_b.shape[1])\n",
    "theta = sgd(X_b,y,initial_theta,n_iters=len(X_b)//3)"
   ]
  },
  {
   "cell_type": "code",
   "execution_count": 14,
   "metadata": {},
   "outputs": [
    {
     "data": {
      "text/plain": [
       "array([3.99220562, 3.00173199])"
      ]
     },
     "execution_count": 14,
     "metadata": {},
     "output_type": "execute_result"
    }
   ],
   "source": [
    "theta"
   ]
  },
  {
   "cell_type": "markdown",
   "metadata": {},
   "source": [
    "# scikit_learn 中的SGD"
   ]
  },
  {
   "cell_type": "code",
   "execution_count": 17,
   "metadata": {},
   "outputs": [],
   "source": [
    "from sklearn.linear_model import SGDRegressor"
   ]
  },
  {
   "cell_type": "code",
   "execution_count": null,
   "metadata": {},
   "outputs": [],
   "source": [
    "sgd_reg = SGDRegressor(n_iter=100)  #默认值为5，表示样本浏览多少次\n",
    "%time sgd_reg.fit(X_train_standard,y_train)\n",
    "sgd_reg.score(X_test_standard,y_test)"
   ]
  }
 ],
 "metadata": {
  "kernelspec": {
   "display_name": "Python 3",
   "language": "python",
   "name": "python3"
  },
  "language_info": {
   "codemirror_mode": {
    "name": "ipython",
    "version": 3
   },
   "file_extension": ".py",
   "mimetype": "text/x-python",
   "name": "python",
   "nbconvert_exporter": "python",
   "pygments_lexer": "ipython3",
   "version": "3.7.0"
  }
 },
 "nbformat": 4,
 "nbformat_minor": 2
}

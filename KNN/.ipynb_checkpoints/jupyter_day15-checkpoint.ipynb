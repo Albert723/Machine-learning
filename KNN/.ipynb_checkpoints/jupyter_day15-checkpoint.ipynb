{
 "cells": [
  {
   "cell_type": "markdown",
   "metadata": {},
   "source": [
    "## 数据归一化处理"
   ]
  },
  {
   "cell_type": "code",
   "execution_count": 1,
   "metadata": {},
   "outputs": [],
   "source": [
    "import numpy as np\n",
    "import matplotlib.pyplot as plt"
   ]
  },
  {
   "cell_type": "markdown",
   "metadata": {},
   "source": [
    "## 最值归一化 Normalization"
   ]
  },
  {
   "cell_type": "code",
   "execution_count": 2,
   "metadata": {},
   "outputs": [],
   "source": [
    "x = np.random.randint(0,100,100)"
   ]
  },
  {
   "cell_type": "code",
   "execution_count": 3,
   "metadata": {},
   "outputs": [
    {
     "data": {
      "text/plain": [
       "array([88, 62, 16, 35, 17, 42, 23, 75, 50, 22, 42, 40, 49, 53, 29, 31, 94,\n",
       "       72, 36, 91, 85, 33, 39, 88, 18, 88, 66, 59, 53, 16, 35, 48, 28, 99,\n",
       "        9, 63, 64, 15, 50, 93, 85, 62, 11, 84, 39, 21, 23, 77, 45, 47, 15,\n",
       "       86,  4, 35, 65, 89, 54, 25, 36, 15, 40,  1, 94, 41, 18, 73, 23, 32,\n",
       "       50, 64, 91, 18, 88, 62,  9, 59, 64, 86, 86, 87, 75, 90, 20, 65, 93,\n",
       "       10, 60, 47, 53, 94,  7, 42, 51, 89, 78, 21, 49, 84, 15,  7])"
      ]
     },
     "execution_count": 3,
     "metadata": {},
     "output_type": "execute_result"
    }
   ],
   "source": [
    "x"
   ]
  },
  {
   "cell_type": "code",
   "execution_count": 4,
   "metadata": {},
   "outputs": [
    {
     "data": {
      "text/plain": [
       "array([0.8877551 , 0.62244898, 0.15306122, 0.34693878, 0.16326531,\n",
       "       0.41836735, 0.2244898 , 0.75510204, 0.5       , 0.21428571,\n",
       "       0.41836735, 0.39795918, 0.48979592, 0.53061224, 0.28571429,\n",
       "       0.30612245, 0.94897959, 0.7244898 , 0.35714286, 0.91836735,\n",
       "       0.85714286, 0.32653061, 0.3877551 , 0.8877551 , 0.17346939,\n",
       "       0.8877551 , 0.66326531, 0.59183673, 0.53061224, 0.15306122,\n",
       "       0.34693878, 0.47959184, 0.2755102 , 1.        , 0.08163265,\n",
       "       0.63265306, 0.64285714, 0.14285714, 0.5       , 0.93877551,\n",
       "       0.85714286, 0.62244898, 0.10204082, 0.84693878, 0.3877551 ,\n",
       "       0.20408163, 0.2244898 , 0.7755102 , 0.44897959, 0.46938776,\n",
       "       0.14285714, 0.86734694, 0.03061224, 0.34693878, 0.65306122,\n",
       "       0.89795918, 0.54081633, 0.24489796, 0.35714286, 0.14285714,\n",
       "       0.39795918, 0.        , 0.94897959, 0.40816327, 0.17346939,\n",
       "       0.73469388, 0.2244898 , 0.31632653, 0.5       , 0.64285714,\n",
       "       0.91836735, 0.17346939, 0.8877551 , 0.62244898, 0.08163265,\n",
       "       0.59183673, 0.64285714, 0.86734694, 0.86734694, 0.87755102,\n",
       "       0.75510204, 0.90816327, 0.19387755, 0.65306122, 0.93877551,\n",
       "       0.09183673, 0.60204082, 0.46938776, 0.53061224, 0.94897959,\n",
       "       0.06122449, 0.41836735, 0.51020408, 0.89795918, 0.78571429,\n",
       "       0.20408163, 0.48979592, 0.84693878, 0.14285714, 0.06122449])"
      ]
     },
     "execution_count": 4,
     "metadata": {},
     "output_type": "execute_result"
    }
   ],
   "source": [
    "(x - np.min(x))/(np.max(x)-np.min(x))"
   ]
  },
  {
   "cell_type": "code",
   "execution_count": 5,
   "metadata": {},
   "outputs": [],
   "source": [
    "X =np.random.randint(1,100,(50,2))"
   ]
  },
  {
   "cell_type": "code",
   "execution_count": 6,
   "metadata": {},
   "outputs": [
    {
     "data": {
      "text/plain": [
       "array([[13, 72],\n",
       "       [52, 99],\n",
       "       [89, 92],\n",
       "       [94,  8],\n",
       "       [14, 70],\n",
       "       [95, 54],\n",
       "       [69, 78],\n",
       "       [75, 70],\n",
       "       [28, 27],\n",
       "       [27, 67]])"
      ]
     },
     "execution_count": 6,
     "metadata": {},
     "output_type": "execute_result"
    }
   ],
   "source": [
    "X[:10,:]"
   ]
  },
  {
   "cell_type": "code",
   "execution_count": 7,
   "metadata": {},
   "outputs": [],
   "source": [
    "X = np.array(X,dtype = float)"
   ]
  },
  {
   "cell_type": "code",
   "execution_count": 8,
   "metadata": {},
   "outputs": [
    {
     "data": {
      "text/plain": [
       "array([[13., 72.],\n",
       "       [52., 99.],\n",
       "       [89., 92.],\n",
       "       [94.,  8.],\n",
       "       [14., 70.],\n",
       "       [95., 54.],\n",
       "       [69., 78.],\n",
       "       [75., 70.],\n",
       "       [28., 27.],\n",
       "       [27., 67.]])"
      ]
     },
     "execution_count": 8,
     "metadata": {},
     "output_type": "execute_result"
    }
   ],
   "source": [
    "X[:10,:]"
   ]
  },
  {
   "cell_type": "code",
   "execution_count": 9,
   "metadata": {},
   "outputs": [],
   "source": [
    "X[:,0] = (X[:,0]-np.min(X[:,0]))/(np.max(X[:,0])-np.min(X[:,0]))"
   ]
  },
  {
   "cell_type": "code",
   "execution_count": 10,
   "metadata": {},
   "outputs": [],
   "source": [
    "X[:,1] = (X[:,1]-np.min(X[:,1]))/(np.max(X[:,1])-np.min(X[:,1]))"
   ]
  },
  {
   "cell_type": "code",
   "execution_count": 11,
   "metadata": {},
   "outputs": [
    {
     "data": {
      "text/plain": [
       "array([0.09473684, 0.50526316, 0.89473684, 0.94736842, 0.10526316,\n",
       "       0.95789474, 0.68421053, 0.74736842, 0.25263158, 0.24210526])"
      ]
     },
     "execution_count": 11,
     "metadata": {},
     "output_type": "execute_result"
    }
   ],
   "source": [
    "X[:10,0]"
   ]
  },
  {
   "cell_type": "code",
   "execution_count": 13,
   "metadata": {},
   "outputs": [
    {
     "data": {
      "image/png": "[encoded data removed]",
      "text/plain": [
       "<Figure size 432x288 with 1 Axes>"
      ]
     },
     "metadata": {
      "needs_background": "light"
     },
     "output_type": "display_data"
    }
   ],
   "source": [
    "plt.scatter(X[:,0],X[:,1])\n",
    "plt.show()"
   ]
  },
  {
   "cell_type": "code",
   "execution_count": 14,
   "metadata": {},
   "outputs": [
    {
     "data": {
      "text/plain": [
       "0.5239999999999999"
      ]
     },
     "execution_count": 14,
     "metadata": {},
     "output_type": "execute_result"
    }
   ],
   "source": [
    "np.mean(X[:,0])"
   ]
  },
  {
   "cell_type": "code",
   "execution_count": 15,
   "metadata": {},
   "outputs": [
    {
     "data": {
      "text/plain": [
       "0.31292235281610475"
      ]
     },
     "execution_count": 15,
     "metadata": {},
     "output_type": "execute_result"
    }
   ],
   "source": [
    "np.std(X[:,0])"
   ]
  },
  {
   "cell_type": "code",
   "execution_count": 16,
   "metadata": {},
   "outputs": [
    {
     "data": {
      "text/plain": [
       "0.5240860215053763"
      ]
     },
     "execution_count": 16,
     "metadata": {},
     "output_type": "execute_result"
    }
   ],
   "source": [
    "np.mean(X[:,1])"
   ]
  },
  {
   "cell_type": "code",
   "execution_count": 17,
   "metadata": {},
   "outputs": [
    {
     "data": {
      "text/plain": [
       "0.29131499040178127"
      ]
     },
     "execution_count": 17,
     "metadata": {},
     "output_type": "execute_result"
    }
   ],
   "source": [
    "np.std(X[:,1])"
   ]
  },
  {
   "cell_type": "markdown",
   "metadata": {},
   "source": [
    "# 均值方差归一化"
   ]
  },
  {
   "cell_type": "code",
   "execution_count": 18,
   "metadata": {},
   "outputs": [],
   "source": [
    "X2 = np.random.randint(1,100,(50,2))"
   ]
  },
  {
   "cell_type": "code",
   "execution_count": 19,
   "metadata": {},
   "outputs": [],
   "source": [
    "X2 = np.array(X2,dtype=float)"
   ]
  },
  {
   "cell_type": "code",
   "execution_count": 20,
   "metadata": {},
   "outputs": [],
   "source": [
    "X2[:,0] = (X2[:,0]-np.mean(X2[:,0]))/np.std(X2[:,0])"
   ]
  },
  {
   "cell_type": "code",
   "execution_count": 21,
   "metadata": {},
   "outputs": [],
   "source": [
    "X2[:,1] = (X2[:,1]-np.mean(X2[:,1]))/np.std(X2[:,1])"
   ]
  },
  {
   "cell_type": "code",
   "execution_count": 23,
   "metadata": {},
   "outputs": [
    {
     "data": {
      "text/plain": [
       "array([-0.9258368 , -1.42131521,  0.4898158 ,  0.737555  , -0.4657497 ,\n",
       "       -1.24435863, -0.99661943,  1.4453813 ,  1.37459867,  0.94990289])"
      ]
     },
     "execution_count": 23,
     "metadata": {},
     "output_type": "execute_result"
    }
   ],
   "source": [
    "X2[:10,1]"
   ]
  },
  {
   "cell_type": "code",
   "execution_count": 24,
   "metadata": {},
   "outputs": [
    {
     "data": {
      "image/png": "[encoded data removed]",
      "text/plain": [
       "<Figure size 432x288 with 1 Axes>"
      ]
     },
     "metadata": {
      "needs_background": "light"
     },
     "output_type": "display_data"
    }
   ],
   "source": [
    "plt.scatter(X2[:,0],X2[:,1])\n",
    "plt.show()"
   ]
  },
  {
   "cell_type": "code",
   "execution_count": 25,
   "metadata": {},
   "outputs": [
    {
     "data": {
      "text/plain": [
       "1.0436096431476471e-16"
      ]
     },
     "execution_count": 25,
     "metadata": {},
     "output_type": "execute_result"
    }
   ],
   "source": [
    "np.mean(X2[:,0])"
   ]
  },
  {
   "cell_type": "code",
   "execution_count": 26,
   "metadata": {},
   "outputs": [
    {
     "data": {
      "text/plain": [
       "1.0"
      ]
     },
     "execution_count": 26,
     "metadata": {},
     "output_type": "execute_result"
    }
   ],
   "source": [
    "np.std(X2[:,0])"
   ]
  },
  {
   "cell_type": "code",
   "execution_count": 27,
   "metadata": {},
   "outputs": [
    {
     "data": {
      "text/plain": [
       "1.2656542480726783e-16"
      ]
     },
     "execution_count": 27,
     "metadata": {},
     "output_type": "execute_result"
    }
   ],
   "source": [
    "np.mean(X2[:,1])"
   ]
  },
  {
   "cell_type": "code",
   "execution_count": 28,
   "metadata": {},
   "outputs": [
    {
     "data": {
      "text/plain": [
       "1.0"
      ]
     },
     "execution_count": 28,
     "metadata": {},
     "output_type": "execute_result"
    }
   ],
   "source": [
    "np.std(X2[:,1])"
   ]
  },
  {
   "cell_type": "code",
   "execution_count": null,
   "metadata": {},
   "outputs": [],
   "source": []
  }
 ],
 "metadata": {
  "kernelspec": {
   "display_name": "Python 3",
   "language": "python",
   "name": "python3"
  },
  "language_info": {
   "codemirror_mode": {
    "name": "ipython",
    "version": 3
   },
   "file_extension": ".py",
   "mimetype": "text/x-python",
   "name": "python",
   "nbconvert_exporter": "python",
   "pygments_lexer": "ipython3",
   "version": "3.7.0"
  }
 },
 "nbformat": 4,
 "nbformat_minor": 2
}
